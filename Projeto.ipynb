{
  "nbformat": 4,
  "nbformat_minor": 0,
  "metadata": {
    "colab": {
      "name": "Projeto.ipynb",
      "provenance": [],
      "collapsed_sections": [],
      "include_colab_link": true
    },
    "kernelspec": {
      "name": "python3",
      "display_name": "Python 3"
    }
  },
  "cells": [
    {
      "cell_type": "markdown",
      "metadata": {
        "id": "view-in-github",
        "colab_type": "text"
      },
      "source": [
        "<a href=\"https://colab.research.google.com/github/Tales313/P6_Machine_Learning/blob/master/Projeto.ipynb\" target=\"_parent\"><img src=\"https://colab.research.google.com/assets/colab-badge.svg\" alt=\"Open In Colab\"/></a>"
      ]
    },
    {
      "cell_type": "code",
      "metadata": {
        "id": "c3IvtPimqc2w",
        "colab_type": "code",
        "colab": {}
      },
      "source": [
        "from sklearn import tree\n",
        "from sklearn.neighbors import KNeighborsClassifier\n",
        "from sklearn.neural_network import MLPClassifier\n",
        "from sklearn.cluster import KMeans\n",
        "from sklearn import metrics \n",
        "import pandas as pandas\n",
        "from sklearn import tree\n",
        "from sklearn import preprocessing\n",
        "from IPython.display import Markdown as md\n",
        "import matplotlib.pyplot as plt\n",
        "from sklearn.model_selection import train_test_split\n",
        "\n",
        "# WINE\n",
        "url_wine = \"https://raw.githubusercontent.com/Tales313/P6_Machine_Learning/master/wine.data\"\n",
        "col_names_wine = ['label', 'x1', 'x2', 'x3', 'x4', 'x5', 'x6', 'x7', 'x8', 'x9', 'x10', 'x11', 'x12', 'x13']\n",
        "feature_cols_wine = ['x1', 'x2', 'x3', 'x4', 'x5', 'x6', 'x7', 'x8', 'x9', 'x10', 'x11', 'x12', 'x13']\n",
        "\n",
        "# BALANCE-SCALE \n",
        "url_balance_scale = \"https://raw.githubusercontent.com/Tales313/P6_Machine_Learning/master/balance-scale.data\"\n",
        "col_names_balance_scale = ['label', 'x1', 'x2', 'x3', 'x4']\n",
        "feature_cols_balance_scale = ['x1', 'x2', 'x3', 'x4']\n",
        "\n",
        "# ABALONE\n",
        "url_abalone = \"https://raw.githubusercontent.com/Tales313/P6_Machine_Learning/master/abalone.data\"\n",
        "col_names_abalone = ['label', 'x1', 'x2', 'x3', 'x4', 'x5', 'x6', 'x7', 'x8']\n",
        "feature_cols_abalone = ['x1', 'x2', 'x3', 'x4', 'x5', 'x6', 'x7', 'x8']\n",
        "#url_abalone = \"https://raw.githubusercontent.com/Tales313/P6_Machine_Learning/master/ecoli.data\"\n",
        "#col_names_abalone = ['label', 'x1', 'x2', 'x3', 'x4', 'x5', 'x6', 'x7', 'x8']#, 'x9', 'x10', 'x11', 'x12']\n",
        "#feature_cols_abalone = ['x1', 'x2', 'x3', 'x4', 'x5', 'x6', 'x7', 'x8']#, 'x9', 'x10', 'x11', 'x12']\n",
        "\n",
        "raw_dataset_wine = pandas.read_csv(url_wine ,header=None, names=col_names_wine) \n",
        "raw_dataset_balance_scale = pandas.read_csv(url_balance_scale, header=None, names=col_names_balance_scale) \n",
        "raw_dataset_abalone = pandas.read_csv(url_abalone, header=None, names=col_names_abalone)"
      ],
      "execution_count": 0,
      "outputs": []
    },
    {
      "cell_type": "code",
      "metadata": {
        "id": "7KD34wZIq2xA",
        "colab_type": "code",
        "outputId": "aa60f5e8-1a02-4f59-ee2e-be2308d7eee8",
        "colab": {
          "base_uri": "https://localhost:8080/",
          "height": 360
        }
      },
      "source": [
        "wine_results = {\n",
        "    'tree': [],\n",
        "    'knn5': [],\n",
        "    'knn10': [],\n",
        "    'mlp1': [],\n",
        "    'mlp2': [],\n",
        "} \n",
        "\n",
        "wine_arvore_acertos = []\n",
        "wine_arvore_erros = []\n",
        "wine_knn5_acertos = []\n",
        "wine_knn5_erros = []\n",
        "wine_knn10_acertos = []\n",
        "wine_knn10_erros = []\n",
        "wine_mlp1_acertos = []\n",
        "wine_mlp1_erros = []\n",
        "wine_mlp2_acertos = []\n",
        "wine_mlp2_erros = []\n",
        "\n",
        "wine_x = raw_dataset_wine[feature_cols_wine]\n",
        "wine_y = raw_dataset_wine.label\n",
        "\n",
        "for i in range(10):\n",
        "  x_train_wine, x_test_wine, y_train_wine, y_test_wine = train_test_split(wine_x, wine_y, test_size=0.2, random_state=None, stratify=wine_y) \n",
        "\n",
        "  #Arvore\n",
        "  wine_tree = tree.DecisionTreeClassifier()\n",
        "  wine_tree = wine_tree.fit(x_train_wine, y_train_wine)\n",
        "  wine_result = wine_tree.predict(x_test_wine)\n",
        "  acc = metrics.accuracy_score(y_test_wine, wine_result)\n",
        "  wine_results['tree'].append(round(acc * 100))\n",
        "  wine_arvore_acertos.append(wine_results['tree'][i])\n",
        "  wine_arvore_erros.append(100 - wine_arvore_acertos[i])\n",
        "\n",
        "  # KNN 5\n",
        "  wine_knn5= KNeighborsClassifier(n_neighbors=5, metric='manhattan', algorithm='brute')\n",
        "  wine_knn5.fit(x_train_wine, y_train_wine)\n",
        "  wine_result = wine_knn5.predict(x_test_wine)\n",
        "  acc = metrics.accuracy_score(y_test_wine, wine_result)\n",
        "  wine_results['knn5'].append(round(acc * 100))\n",
        "  wine_knn5_acertos.append(wine_results['knn5'][i])\n",
        "  wine_knn5_erros.append(100 - wine_knn5_acertos[i])\n",
        "\n",
        "  # KNN 10\n",
        "  wine_knn10 = KNeighborsClassifier(n_neighbors=10)\n",
        "  wine_knn10.fit(x_train_wine, y_train_wine)\n",
        "  wine_result = wine_knn10.predict(x_test_wine)\n",
        "  acc = metrics.accuracy_score(y_test_wine, wine_result)\n",
        "  wine_results['knn10'].append(round(acc * 100))\n",
        "  wine_knn10_acertos.append(wine_results['knn10'][i])\n",
        "  wine_knn10_erros.append(100 - wine_knn10_acertos[i])\n",
        "\n",
        "  # MLP 1\n",
        "  wine_mlp1 = MLPClassifier(hidden_layer_sizes=(4,2), activation='identity',max_iter=3000)\n",
        "  wine_mlp1.fit(x_train_wine, y_train_wine)\n",
        "  wine_result = wine_mlp1.predict(x_test_wine)\n",
        "  acc = metrics.accuracy_score(y_test_wine, wine_result)\n",
        "  wine_results['mlp1'].append(round(acc * 100))\n",
        "  wine_mlp1_acertos.append(wine_results['mlp1'][i])\n",
        "  wine_mlp1_erros.append(100 - wine_mlp1_acertos[i])\n",
        "\n",
        "  # MLP 2\n",
        "  wine_mlp2 = MLPClassifier(hidden_layer_sizes=(8,6), activation='logistic',max_iter=1000)\n",
        "  wine_mlp2.fit(x_train_wine, y_train_wine)\n",
        "  wine_result = wine_mlp2.predict(x_test_wine)\n",
        "  acc = metrics.accuracy_score(y_test_wine, wine_result)\n",
        "  wine_results['mlp2'].append(round(acc * 100))\n",
        "  wine_mlp2_acertos.append(wine_results['mlp2'][i])\n",
        "  wine_mlp2_erros.append(100 - wine_mlp2_acertos[i])\n",
        "\n",
        "print(wine_results)"
      ],
      "execution_count": 2,
      "outputs": [
        {
          "output_type": "stream",
          "text": [
            "/usr/local/lib/python3.6/dist-packages/sklearn/neural_network/_multilayer_perceptron.py:571: ConvergenceWarning: Stochastic Optimizer: Maximum iterations (1000) reached and the optimization hasn't converged yet.\n",
            "  % self.max_iter, ConvergenceWarning)\n",
            "/usr/local/lib/python3.6/dist-packages/sklearn/neural_network/_multilayer_perceptron.py:571: ConvergenceWarning: Stochastic Optimizer: Maximum iterations (1000) reached and the optimization hasn't converged yet.\n",
            "  % self.max_iter, ConvergenceWarning)\n",
            "/usr/local/lib/python3.6/dist-packages/sklearn/neural_network/_multilayer_perceptron.py:571: ConvergenceWarning: Stochastic Optimizer: Maximum iterations (1000) reached and the optimization hasn't converged yet.\n",
            "  % self.max_iter, ConvergenceWarning)\n",
            "/usr/local/lib/python3.6/dist-packages/sklearn/neural_network/_multilayer_perceptron.py:571: ConvergenceWarning: Stochastic Optimizer: Maximum iterations (1000) reached and the optimization hasn't converged yet.\n",
            "  % self.max_iter, ConvergenceWarning)\n",
            "/usr/local/lib/python3.6/dist-packages/sklearn/neural_network/_multilayer_perceptron.py:571: ConvergenceWarning: Stochastic Optimizer: Maximum iterations (3000) reached and the optimization hasn't converged yet.\n",
            "  % self.max_iter, ConvergenceWarning)\n",
            "/usr/local/lib/python3.6/dist-packages/sklearn/neural_network/_multilayer_perceptron.py:571: ConvergenceWarning: Stochastic Optimizer: Maximum iterations (1000) reached and the optimization hasn't converged yet.\n",
            "  % self.max_iter, ConvergenceWarning)\n",
            "/usr/local/lib/python3.6/dist-packages/sklearn/neural_network/_multilayer_perceptron.py:571: ConvergenceWarning: Stochastic Optimizer: Maximum iterations (1000) reached and the optimization hasn't converged yet.\n",
            "  % self.max_iter, ConvergenceWarning)\n",
            "/usr/local/lib/python3.6/dist-packages/sklearn/neural_network/_multilayer_perceptron.py:571: ConvergenceWarning: Stochastic Optimizer: Maximum iterations (1000) reached and the optimization hasn't converged yet.\n",
            "  % self.max_iter, ConvergenceWarning)\n"
          ],
          "name": "stderr"
        },
        {
          "output_type": "stream",
          "text": [
            "{'tree': [100.0, 92.0, 89.0, 94.0, 92.0, 92.0, 92.0, 94.0, 75.0, 100.0], 'knn5': [75.0, 69.0, 72.0, 72.0, 75.0, 69.0, 83.0, 78.0, 69.0, 61.0], 'knn10': [75.0, 64.0, 69.0, 58.0, 72.0, 81.0, 81.0, 67.0, 61.0, 67.0], 'mlp1': [39.0, 56.0, 83.0, 94.0, 100.0, 92.0, 89.0, 47.0, 36.0, 69.0], 'mlp2': [39.0, 89.0, 83.0, 94.0, 100.0, 39.0, 92.0, 72.0, 86.0, 100.0]}\n"
          ],
          "name": "stdout"
        },
        {
          "output_type": "stream",
          "text": [
            "/usr/local/lib/python3.6/dist-packages/sklearn/neural_network/_multilayer_perceptron.py:571: ConvergenceWarning: Stochastic Optimizer: Maximum iterations (1000) reached and the optimization hasn't converged yet.\n",
            "  % self.max_iter, ConvergenceWarning)\n"
          ],
          "name": "stderr"
        }
      ]
    },
    {
      "cell_type": "code",
      "metadata": {
        "id": "i7WoMv-Cq7mO",
        "colab_type": "code",
        "outputId": "8cb0b2fc-8336-4d2c-c9c0-cab08b0314c2",
        "colab": {
          "base_uri": "https://localhost:8080/",
          "height": 700
        }
      },
      "source": [
        "balance_scale_results = {\n",
        "    'tree': [],\n",
        "    'knn5': [],\n",
        "    'knn10': [],\n",
        "    'mlp1': [],\n",
        "    'mlp2': [],\n",
        "} \n",
        "\n",
        "balance_arvore_acertos = []\n",
        "balance_arvore_erros = []\n",
        "balance_knn5_acertos = []\n",
        "balance_knn5_erros = []\n",
        "balance_knn10_acertos = []\n",
        "balance_knn10_erros = []\n",
        "balance_mlp1_acertos = []\n",
        "balance_mlp1_erros = []\n",
        "balance_mlp2_acertos = []\n",
        "balance_mlp2_erros = []\n",
        "\n",
        "balance_scale_x = raw_dataset_balance_scale[feature_cols_balance_scale]\n",
        "balance_scale_y = raw_dataset_balance_scale.label\n",
        "\n",
        "for i in range(10):\n",
        "  x_train_balance_scale, x_test_balance_scale, y_train_balance_scale, y_test_balance_scale = train_test_split(balance_scale_x, balance_scale_y, test_size=0.2, random_state=None, stratify=balance_scale_y) \n",
        "\n",
        "  # Arvore\n",
        "  balance_scale_tree = tree.DecisionTreeClassifier()\n",
        "  balance_scale_tree = balance_scale_tree.fit(x_train_balance_scale,y_train_balance_scale)\n",
        "  balance_scale_result = balance_scale_tree.predict(x_test_balance_scale)\n",
        "  acc = metrics.accuracy_score(y_test_balance_scale, balance_scale_result)\n",
        "  balance_scale_results['tree'].append(round(acc * 100))\n",
        "  balance_arvore_acertos.append(balance_scale_results['tree'][i])\n",
        "  balance_arvore_erros.append(100 - balance_arvore_acertos[i])\n",
        "\n",
        "  # KNN 5\n",
        "  balance_scale_knn5= KNeighborsClassifier(n_neighbors=5)\n",
        "  balance_scale_knn5.fit(x_train_balance_scale, y_train_balance_scale)\n",
        "  balance_scale_result = balance_scale_knn5.predict(x_test_balance_scale)\n",
        "  acc = metrics.accuracy_score(y_test_balance_scale, balance_scale_result)\n",
        "  balance_scale_results['knn5'].append(round(acc * 100))\n",
        "  balance_knn5_acertos.append(balance_scale_results['knn5'][i])\n",
        "  balance_knn5_erros.append(100 - balance_knn5_acertos[i])\n",
        "\n",
        "  # KNN 10\n",
        "  balance_scale_knn10 = KNeighborsClassifier(n_neighbors=10)\n",
        "  balance_scale_knn10.fit(x_train_balance_scale,y_train_balance_scale)\n",
        "  balance_scale_result = balance_scale_knn10.predict(x_test_balance_scale)\n",
        "  acc = metrics.accuracy_score(y_test_balance_scale, balance_scale_result)\n",
        "  balance_scale_results['knn10'].append(round(acc * 100))\n",
        "  balance_knn10_acertos.append(balance_scale_results['knn10'][i])\n",
        "  balance_knn10_erros.append(100 - balance_knn10_acertos[i])\n",
        "\n",
        "  # MLP 1\n",
        "  balance_scale_mlp1 = MLPClassifier(hidden_layer_sizes=(10,5), activation='tanh',max_iter=1000)\n",
        "  balance_scale_mlp1.fit(x_train_balance_scale,y_train_balance_scale )\n",
        "  balance_scale_result = balance_scale_mlp1.predict(x_test_balance_scale)\n",
        "  acc = metrics.accuracy_score(y_test_balance_scale, balance_scale_result)\n",
        "  balance_scale_results['mlp1'].append(round(acc* 100))\n",
        "  balance_mlp1_acertos.append(balance_scale_results['mlp1'][i])\n",
        "  balance_mlp1_erros.append(100 - balance_mlp1_acertos[i])\n",
        "\n",
        "  # MLP 2\n",
        "  balance_scale_mlp2 = MLPClassifier(hidden_layer_sizes=(4,2), activation='tanh',max_iter=1000)\n",
        "  balance_scale_mlp2.fit(x_train_balance_scale,y_train_balance_scale)\n",
        "  balance_scale_result = balance_scale_mlp2.predict(x_test_balance_scale)\n",
        "  acc = metrics.accuracy_score(y_test_balance_scale, balance_scale_result)\n",
        "  balance_scale_results['mlp2'].append(round(acc * 100))\n",
        "  balance_mlp2_acertos.append(balance_scale_results['mlp2'][i])\n",
        "  balance_mlp2_erros.append(100 - balance_mlp2_acertos[i])\n",
        "\n",
        "print(balance_scale_results)"
      ],
      "execution_count": 3,
      "outputs": [
        {
          "output_type": "stream",
          "text": [
            "/usr/local/lib/python3.6/dist-packages/sklearn/neural_network/_multilayer_perceptron.py:571: ConvergenceWarning: Stochastic Optimizer: Maximum iterations (1000) reached and the optimization hasn't converged yet.\n",
            "  % self.max_iter, ConvergenceWarning)\n",
            "/usr/local/lib/python3.6/dist-packages/sklearn/neural_network/_multilayer_perceptron.py:571: ConvergenceWarning: Stochastic Optimizer: Maximum iterations (1000) reached and the optimization hasn't converged yet.\n",
            "  % self.max_iter, ConvergenceWarning)\n",
            "/usr/local/lib/python3.6/dist-packages/sklearn/neural_network/_multilayer_perceptron.py:571: ConvergenceWarning: Stochastic Optimizer: Maximum iterations (1000) reached and the optimization hasn't converged yet.\n",
            "  % self.max_iter, ConvergenceWarning)\n",
            "/usr/local/lib/python3.6/dist-packages/sklearn/neural_network/_multilayer_perceptron.py:571: ConvergenceWarning: Stochastic Optimizer: Maximum iterations (1000) reached and the optimization hasn't converged yet.\n",
            "  % self.max_iter, ConvergenceWarning)\n",
            "/usr/local/lib/python3.6/dist-packages/sklearn/neural_network/_multilayer_perceptron.py:571: ConvergenceWarning: Stochastic Optimizer: Maximum iterations (1000) reached and the optimization hasn't converged yet.\n",
            "  % self.max_iter, ConvergenceWarning)\n",
            "/usr/local/lib/python3.6/dist-packages/sklearn/neural_network/_multilayer_perceptron.py:571: ConvergenceWarning: Stochastic Optimizer: Maximum iterations (1000) reached and the optimization hasn't converged yet.\n",
            "  % self.max_iter, ConvergenceWarning)\n",
            "/usr/local/lib/python3.6/dist-packages/sklearn/neural_network/_multilayer_perceptron.py:571: ConvergenceWarning: Stochastic Optimizer: Maximum iterations (1000) reached and the optimization hasn't converged yet.\n",
            "  % self.max_iter, ConvergenceWarning)\n",
            "/usr/local/lib/python3.6/dist-packages/sklearn/neural_network/_multilayer_perceptron.py:571: ConvergenceWarning: Stochastic Optimizer: Maximum iterations (1000) reached and the optimization hasn't converged yet.\n",
            "  % self.max_iter, ConvergenceWarning)\n",
            "/usr/local/lib/python3.6/dist-packages/sklearn/neural_network/_multilayer_perceptron.py:571: ConvergenceWarning: Stochastic Optimizer: Maximum iterations (1000) reached and the optimization hasn't converged yet.\n",
            "  % self.max_iter, ConvergenceWarning)\n",
            "/usr/local/lib/python3.6/dist-packages/sklearn/neural_network/_multilayer_perceptron.py:571: ConvergenceWarning: Stochastic Optimizer: Maximum iterations (1000) reached and the optimization hasn't converged yet.\n",
            "  % self.max_iter, ConvergenceWarning)\n",
            "/usr/local/lib/python3.6/dist-packages/sklearn/neural_network/_multilayer_perceptron.py:571: ConvergenceWarning: Stochastic Optimizer: Maximum iterations (1000) reached and the optimization hasn't converged yet.\n",
            "  % self.max_iter, ConvergenceWarning)\n",
            "/usr/local/lib/python3.6/dist-packages/sklearn/neural_network/_multilayer_perceptron.py:571: ConvergenceWarning: Stochastic Optimizer: Maximum iterations (1000) reached and the optimization hasn't converged yet.\n",
            "  % self.max_iter, ConvergenceWarning)\n",
            "/usr/local/lib/python3.6/dist-packages/sklearn/neural_network/_multilayer_perceptron.py:571: ConvergenceWarning: Stochastic Optimizer: Maximum iterations (1000) reached and the optimization hasn't converged yet.\n",
            "  % self.max_iter, ConvergenceWarning)\n",
            "/usr/local/lib/python3.6/dist-packages/sklearn/neural_network/_multilayer_perceptron.py:571: ConvergenceWarning: Stochastic Optimizer: Maximum iterations (1000) reached and the optimization hasn't converged yet.\n",
            "  % self.max_iter, ConvergenceWarning)\n",
            "/usr/local/lib/python3.6/dist-packages/sklearn/neural_network/_multilayer_perceptron.py:571: ConvergenceWarning: Stochastic Optimizer: Maximum iterations (1000) reached and the optimization hasn't converged yet.\n",
            "  % self.max_iter, ConvergenceWarning)\n",
            "/usr/local/lib/python3.6/dist-packages/sklearn/neural_network/_multilayer_perceptron.py:571: ConvergenceWarning: Stochastic Optimizer: Maximum iterations (1000) reached and the optimization hasn't converged yet.\n",
            "  % self.max_iter, ConvergenceWarning)\n",
            "/usr/local/lib/python3.6/dist-packages/sklearn/neural_network/_multilayer_perceptron.py:571: ConvergenceWarning: Stochastic Optimizer: Maximum iterations (1000) reached and the optimization hasn't converged yet.\n",
            "  % self.max_iter, ConvergenceWarning)\n",
            "/usr/local/lib/python3.6/dist-packages/sklearn/neural_network/_multilayer_perceptron.py:571: ConvergenceWarning: Stochastic Optimizer: Maximum iterations (1000) reached and the optimization hasn't converged yet.\n",
            "  % self.max_iter, ConvergenceWarning)\n"
          ],
          "name": "stderr"
        },
        {
          "output_type": "stream",
          "text": [
            "{'tree': [78.0, 80.0, 80.0, 78.0, 78.0, 81.0, 78.0, 82.0, 78.0, 83.0], 'knn5': [85.0, 84.0, 82.0, 86.0, 82.0, 86.0, 83.0, 86.0, 80.0, 89.0], 'knn10': [88.0, 83.0, 89.0, 89.0, 87.0, 88.0, 87.0, 90.0, 89.0, 88.0], 'mlp1': [98.0, 98.0, 96.0, 98.0, 97.0, 96.0, 98.0, 97.0, 98.0, 98.0], 'mlp2': [91.0, 90.0, 90.0, 90.0, 98.0, 92.0, 89.0, 90.0, 91.0, 91.0]}\n"
          ],
          "name": "stdout"
        },
        {
          "output_type": "stream",
          "text": [
            "/usr/local/lib/python3.6/dist-packages/sklearn/neural_network/_multilayer_perceptron.py:571: ConvergenceWarning: Stochastic Optimizer: Maximum iterations (1000) reached and the optimization hasn't converged yet.\n",
            "  % self.max_iter, ConvergenceWarning)\n"
          ],
          "name": "stderr"
        }
      ]
    },
    {
      "cell_type": "code",
      "metadata": {
        "id": "uOQ8HqvUq-Dz",
        "colab_type": "code",
        "outputId": "e74c17ce-0b69-4c9b-930d-a5c2d2aff81f",
        "colab": {
          "base_uri": "https://localhost:8080/",
          "height": 122
        }
      },
      "source": [
        "abalone_results = {\n",
        "    'tree': [],\n",
        "    'knn5': [],\n",
        "    'knn10': [],\n",
        "    'mlp1': [],\n",
        "    'mlp2': [],\n",
        "} \n",
        "\n",
        "abalone_arvore_acertos = []\n",
        "abalone_arvore_erros = []\n",
        "abalone_knn5_acertos = []\n",
        "abalone_knn5_erros = []\n",
        "abalone_knn10_acertos = []\n",
        "abalone_knn10_erros = []\n",
        "abalone_mlp1_acertos = []\n",
        "abalone_mlp1_erros = []\n",
        "abalone_mlp2_acertos = []\n",
        "abalone_mlp2_erros = []\n",
        "\n",
        "abalone_x = raw_dataset_abalone[feature_cols_abalone]\n",
        "abalone_y = raw_dataset_abalone.label\n",
        "\n",
        "for i in range(10):\n",
        "  x_train_abalone, x_test_abalone, y_train_abalone, y_test_abalone = train_test_split(abalone_x, abalone_y, test_size=0.2, random_state=None, stratify=abalone_y) \n",
        "\n",
        "  # Arvore\n",
        "  abalone_tree = tree.DecisionTreeClassifier(criterion=\"entropy\")\n",
        "  abalone_tree = abalone_tree.fit(x_train_abalone,y_train_abalone)\n",
        "  abalone_result = abalone_tree.predict(x_test_abalone)\n",
        "  acc = metrics.accuracy_score(y_test_abalone, abalone_result)\n",
        "  abalone_results['tree'].append(round(acc * 100))\n",
        "  abalone_arvore_acertos.append(abalone_results['tree'][i])\n",
        "  abalone_arvore_erros.append(100 - abalone_arvore_acertos[i])\n",
        "\n",
        "  # KNN 5\n",
        "  abalone_knn5= KNeighborsClassifier(n_neighbors=5)\n",
        "  abalone_knn5.fit(x_train_abalone, y_train_abalone)\n",
        "  abalone_result = abalone_knn5.predict(x_test_abalone)\n",
        "  acc = metrics.accuracy_score(y_test_abalone, abalone_result)\n",
        "  abalone_results['knn5'].append(round(acc * 100))\n",
        "  abalone_knn5_acertos.append(abalone_results['knn5'][i])\n",
        "  abalone_knn5_erros.append(100 - abalone_knn5_acertos[i])\n",
        "\n",
        "  # KNN 10\n",
        "  abalone_knn10 = KNeighborsClassifier(n_neighbors=10)\n",
        "  abalone_knn10.fit(x_train_abalone,y_train_abalone)\n",
        "  abalone_result = abalone_knn10.predict(x_test_abalone)\n",
        "  acc = metrics.accuracy_score(y_test_abalone, abalone_result)\n",
        "  abalone_results['knn10'].append(round(acc * 100))\n",
        "  abalone_knn10_acertos.append(abalone_results['knn10'][i])\n",
        "  abalone_knn10_erros.append(100 - abalone_knn10_acertos[i])\n",
        "\n",
        "  # MLP 1\n",
        "  abalone_mlp1 = MLPClassifier(hidden_layer_sizes=(8,6), activation='tanh',max_iter=600)\n",
        "  abalone_mlp1.fit(x_train_abalone,y_train_abalone)\n",
        "  abalone_result = abalone_mlp1.predict(x_test_abalone)\n",
        "  acc = metrics.accuracy_score(y_test_abalone, abalone_result)\n",
        "  abalone_results['mlp1'].append(round(acc * 100))\n",
        "  abalone_mlp1_acertos.append(abalone_results['mlp1'][i])\n",
        "  abalone_mlp1_erros.append(100 - abalone_mlp1_acertos[i])\n",
        "\n",
        "  # MLP 2\n",
        "  abalone_mlp2 = MLPClassifier(hidden_layer_sizes=(4,2), activation='tanh',max_iter=400)\n",
        "  abalone_mlp2.fit(x_train_abalone,y_train_abalone)\n",
        "  abalone_result = abalone_mlp2.predict(x_test_abalone)\n",
        "  acc = metrics.accuracy_score(y_test_abalone, abalone_result)\n",
        "  abalone_results['mlp2'].append(round(acc * 100))\n",
        "  abalone_mlp2_acertos.append(abalone_results['mlp2'][i])\n",
        "  abalone_mlp2_erros.append(100 - abalone_mlp2_acertos[i])\n",
        "\n",
        "print(abalone_results)"
      ],
      "execution_count": 4,
      "outputs": [
        {
          "output_type": "stream",
          "text": [
            "/usr/local/lib/python3.6/dist-packages/sklearn/neural_network/_multilayer_perceptron.py:571: ConvergenceWarning: Stochastic Optimizer: Maximum iterations (400) reached and the optimization hasn't converged yet.\n",
            "  % self.max_iter, ConvergenceWarning)\n"
          ],
          "name": "stderr"
        },
        {
          "output_type": "stream",
          "text": [
            "{'tree': [48.0, 48.0, 49.0, 50.0, 50.0, 47.0, 50.0, 46.0, 48.0, 47.0], 'knn5': [54.0, 51.0, 53.0, 54.0, 53.0, 52.0, 53.0, 52.0, 50.0, 53.0], 'knn10': [55.0, 53.0, 53.0, 53.0, 55.0, 51.0, 52.0, 53.0, 51.0, 52.0], 'mlp1': [54.0, 58.0, 53.0, 53.0, 54.0, 53.0, 55.0, 55.0, 54.0, 55.0], 'mlp2': [55.0, 56.0, 53.0, 53.0, 57.0, 54.0, 54.0, 55.0, 53.0, 54.0]}\n"
          ],
          "name": "stdout"
        },
        {
          "output_type": "stream",
          "text": [
            "/usr/local/lib/python3.6/dist-packages/sklearn/neural_network/_multilayer_perceptron.py:571: ConvergenceWarning: Stochastic Optimizer: Maximum iterations (400) reached and the optimization hasn't converged yet.\n",
            "  % self.max_iter, ConvergenceWarning)\n"
          ],
          "name": "stderr"
        }
      ]
    },
    {
      "cell_type": "code",
      "metadata": {
        "id": "buWOWNDWrNsw",
        "colab_type": "code",
        "outputId": "fe66e123-9bb6-4b4d-e812-05bd7e725bad",
        "colab": {
          "base_uri": "https://localhost:8080/",
          "height": 204
        }
      },
      "source": [
        "pandas.DataFrame.from_dict(wine_results, orient='index')"
      ],
      "execution_count": 5,
      "outputs": [
        {
          "output_type": "execute_result",
          "data": {
            "text/html": [
              "<div>\n",
              "<style scoped>\n",
              "    .dataframe tbody tr th:only-of-type {\n",
              "        vertical-align: middle;\n",
              "    }\n",
              "\n",
              "    .dataframe tbody tr th {\n",
              "        vertical-align: top;\n",
              "    }\n",
              "\n",
              "    .dataframe thead th {\n",
              "        text-align: right;\n",
              "    }\n",
              "</style>\n",
              "<table border=\"1\" class=\"dataframe\">\n",
              "  <thead>\n",
              "    <tr style=\"text-align: right;\">\n",
              "      <th></th>\n",
              "      <th>0</th>\n",
              "      <th>1</th>\n",
              "      <th>2</th>\n",
              "      <th>3</th>\n",
              "      <th>4</th>\n",
              "      <th>5</th>\n",
              "      <th>6</th>\n",
              "      <th>7</th>\n",
              "      <th>8</th>\n",
              "      <th>9</th>\n",
              "    </tr>\n",
              "  </thead>\n",
              "  <tbody>\n",
              "    <tr>\n",
              "      <th>tree</th>\n",
              "      <td>100.0</td>\n",
              "      <td>92.0</td>\n",
              "      <td>89.0</td>\n",
              "      <td>94.0</td>\n",
              "      <td>92.0</td>\n",
              "      <td>92.0</td>\n",
              "      <td>92.0</td>\n",
              "      <td>94.0</td>\n",
              "      <td>75.0</td>\n",
              "      <td>100.0</td>\n",
              "    </tr>\n",
              "    <tr>\n",
              "      <th>knn5</th>\n",
              "      <td>75.0</td>\n",
              "      <td>69.0</td>\n",
              "      <td>72.0</td>\n",
              "      <td>72.0</td>\n",
              "      <td>75.0</td>\n",
              "      <td>69.0</td>\n",
              "      <td>83.0</td>\n",
              "      <td>78.0</td>\n",
              "      <td>69.0</td>\n",
              "      <td>61.0</td>\n",
              "    </tr>\n",
              "    <tr>\n",
              "      <th>knn10</th>\n",
              "      <td>75.0</td>\n",
              "      <td>64.0</td>\n",
              "      <td>69.0</td>\n",
              "      <td>58.0</td>\n",
              "      <td>72.0</td>\n",
              "      <td>81.0</td>\n",
              "      <td>81.0</td>\n",
              "      <td>67.0</td>\n",
              "      <td>61.0</td>\n",
              "      <td>67.0</td>\n",
              "    </tr>\n",
              "    <tr>\n",
              "      <th>mlp1</th>\n",
              "      <td>39.0</td>\n",
              "      <td>56.0</td>\n",
              "      <td>83.0</td>\n",
              "      <td>94.0</td>\n",
              "      <td>100.0</td>\n",
              "      <td>92.0</td>\n",
              "      <td>89.0</td>\n",
              "      <td>47.0</td>\n",
              "      <td>36.0</td>\n",
              "      <td>69.0</td>\n",
              "    </tr>\n",
              "    <tr>\n",
              "      <th>mlp2</th>\n",
              "      <td>39.0</td>\n",
              "      <td>89.0</td>\n",
              "      <td>83.0</td>\n",
              "      <td>94.0</td>\n",
              "      <td>100.0</td>\n",
              "      <td>39.0</td>\n",
              "      <td>92.0</td>\n",
              "      <td>72.0</td>\n",
              "      <td>86.0</td>\n",
              "      <td>100.0</td>\n",
              "    </tr>\n",
              "  </tbody>\n",
              "</table>\n",
              "</div>"
            ],
            "text/plain": [
              "           0     1     2     3      4     5     6     7     8      9\n",
              "tree   100.0  92.0  89.0  94.0   92.0  92.0  92.0  94.0  75.0  100.0\n",
              "knn5    75.0  69.0  72.0  72.0   75.0  69.0  83.0  78.0  69.0   61.0\n",
              "knn10   75.0  64.0  69.0  58.0   72.0  81.0  81.0  67.0  61.0   67.0\n",
              "mlp1    39.0  56.0  83.0  94.0  100.0  92.0  89.0  47.0  36.0   69.0\n",
              "mlp2    39.0  89.0  83.0  94.0  100.0  39.0  92.0  72.0  86.0  100.0"
            ]
          },
          "metadata": {
            "tags": []
          },
          "execution_count": 5
        }
      ]
    },
    {
      "cell_type": "code",
      "metadata": {
        "id": "oXGK68vHrPfF",
        "colab_type": "code",
        "outputId": "bc0f0a1d-3a15-4a1c-8cc2-b446f7a7d4e8",
        "colab": {
          "base_uri": "https://localhost:8080/",
          "height": 295
        }
      },
      "source": [
        "successMLP1 = [x for x in range(len(wine_mlp1_acertos))]\n",
        "failureMLP1 = [x for x in range(len(wine_mlp1_erros))]\n",
        "#plt.bar(failureMLP1, wine_mlp1_erros, color='red')\n",
        "plt.bar(successMLP1, wine_mlp1_acertos, color='green')\n",
        "plt.xlabel('Teste')\n",
        "plt.ylabel('Percentual')\n",
        "plt.title('Gráfico do MLP na arquitetura 4 - 2')\n",
        "plt.show()"
      ],
      "execution_count": 16,
      "outputs": [
        {
          "output_type": "display_data",
          "data": {
            "image/png": "[encoded data removed]",
            "text/plain": [
              "<Figure size 432x288 with 1 Axes>"
            ]
          },
          "metadata": {
            "tags": []
          }
        }
      ]
    },
    {
      "cell_type": "code",
      "metadata": {
        "id": "aG1AZZB_rRR-",
        "colab_type": "code",
        "outputId": "3c9f6b16-0257-433e-cff8-bb22eac47218",
        "colab": {
          "base_uri": "https://localhost:8080/",
          "height": 295
        }
      },
      "source": [
        "successMLP2 = [x for x in range(len(wine_mlp2_acertos))]\n",
        "failureMLP2 = [x for x in range(len(wine_mlp2_erros))]\n",
        "#plt.bar(failureMLP2, wine_mlp2_erros, color='red')\n",
        "plt.bar(successMLP2, wine_mlp2_acertos, color='green')\n",
        "plt.xlabel('Teste')\n",
        "plt.ylabel('Percentual')\n",
        "plt.title('Gráfico do MLP na arquitetura 8 - 6')\n",
        "plt.show()"
      ],
      "execution_count": 17,
      "outputs": [
        {
          "output_type": "display_data",
          "data": {
            "image/png": "[encoded data removed]",
            "text/plain": [
              "<Figure size 432x288 with 1 Axes>"
            ]
          },
          "metadata": {
            "tags": []
          }
        }
      ]
    },
    {
      "cell_type": "code",
      "metadata": {
        "id": "CrzUTXZrp6Ll",
        "colab_type": "code",
        "outputId": "083f259d-fd70-4628-9a4a-373c48be5412",
        "colab": {
          "base_uri": "https://localhost:8080/",
          "height": 312
        }
      },
      "source": [
        "plt.ylabel('Custo')\n",
        "plt.xlabel('Iteração')\n",
        "plt.title(\"Learning rate = \" + str(0.001))\n",
        "plt.plot(wine_mlp1.loss_curve_)"
      ],
      "execution_count": 8,
      "outputs": [
        {
          "output_type": "execute_result",
          "data": {
            "text/plain": [
              "[<matplotlib.lines.Line2D at 0x7f15f51fa7f0>]"
            ]
          },
          "metadata": {
            "tags": []
          },
          "execution_count": 8
        },
        {
          "output_type": "display_data",
          "data": {
            "image/png": "[encoded data removed]",
            "text/plain": [
              "<Figure size 432x288 with 1 Axes>"
            ]
          },
          "metadata": {
            "tags": []
          }
        }
      ]
    },
    {
      "cell_type": "code",
      "metadata": {
        "id": "6jjIDvGG6kKl",
        "colab_type": "code",
        "outputId": "3dbfdeab-9b85-4105-eeea-584fde72e438",
        "colab": {
          "base_uri": "https://localhost:8080/",
          "height": 312
        }
      },
      "source": [
        "plt.ylabel('Custo')\n",
        "plt.xlabel('Iteração')\n",
        "plt.title(\"Learning rate = \" + str(0.001))\n",
        "plt.plot(wine_mlp2.loss_curve_)"
      ],
      "execution_count": 9,
      "outputs": [
        {
          "output_type": "execute_result",
          "data": {
            "text/plain": [
              "[<matplotlib.lines.Line2D at 0x7f15f5158ac8>]"
            ]
          },
          "metadata": {
            "tags": []
          },
          "execution_count": 9
        },
        {
          "output_type": "display_data",
          "data": {
            "image/png": "[encoded data removed]",
            "text/plain": [
              "<Figure size 432x288 with 1 Axes>"
            ]
          },
          "metadata": {
            "tags": []
          }
        }
      ]
    },
    {
      "cell_type": "code",
      "metadata": {
        "id": "oA2b9JMQrUmu",
        "colab_type": "code",
        "outputId": "dfc75d68-53a4-404b-add3-3925364f282f",
        "colab": {
          "base_uri": "https://localhost:8080/",
          "height": 204
        }
      },
      "source": [
        "pandas.DataFrame.from_dict(balance_scale_results, orient='index')"
      ],
      "execution_count": 10,
      "outputs": [
        {
          "output_type": "execute_result",
          "data": {
            "text/html": [
              "<div>\n",
              "<style scoped>\n",
              "    .dataframe tbody tr th:only-of-type {\n",
              "        vertical-align: middle;\n",
              "    }\n",
              "\n",
              "    .dataframe tbody tr th {\n",
              "        vertical-align: top;\n",
              "    }\n",
              "\n",
              "    .dataframe thead th {\n",
              "        text-align: right;\n",
              "    }\n",
              "</style>\n",
              "<table border=\"1\" class=\"dataframe\">\n",
              "  <thead>\n",
              "    <tr style=\"text-align: right;\">\n",
              "      <th></th>\n",
              "      <th>0</th>\n",
              "      <th>1</th>\n",
              "      <th>2</th>\n",
              "      <th>3</th>\n",
              "      <th>4</th>\n",
              "      <th>5</th>\n",
              "      <th>6</th>\n",
              "      <th>7</th>\n",
              "      <th>8</th>\n",
              "      <th>9</th>\n",
              "    </tr>\n",
              "  </thead>\n",
              "  <tbody>\n",
              "    <tr>\n",
              "      <th>tree</th>\n",
              "      <td>78.0</td>\n",
              "      <td>80.0</td>\n",
              "      <td>80.0</td>\n",
              "      <td>78.0</td>\n",
              "      <td>78.0</td>\n",
              "      <td>81.0</td>\n",
              "      <td>78.0</td>\n",
              "      <td>82.0</td>\n",
              "      <td>78.0</td>\n",
              "      <td>83.0</td>\n",
              "    </tr>\n",
              "    <tr>\n",
              "      <th>knn5</th>\n",
              "      <td>85.0</td>\n",
              "      <td>84.0</td>\n",
              "      <td>82.0</td>\n",
              "      <td>86.0</td>\n",
              "      <td>82.0</td>\n",
              "      <td>86.0</td>\n",
              "      <td>83.0</td>\n",
              "      <td>86.0</td>\n",
              "      <td>80.0</td>\n",
              "      <td>89.0</td>\n",
              "    </tr>\n",
              "    <tr>\n",
              "      <th>knn10</th>\n",
              "      <td>88.0</td>\n",
              "      <td>83.0</td>\n",
              "      <td>89.0</td>\n",
              "      <td>89.0</td>\n",
              "      <td>87.0</td>\n",
              "      <td>88.0</td>\n",
              "      <td>87.0</td>\n",
              "      <td>90.0</td>\n",
              "      <td>89.0</td>\n",
              "      <td>88.0</td>\n",
              "    </tr>\n",
              "    <tr>\n",
              "      <th>mlp1</th>\n",
              "      <td>98.0</td>\n",
              "      <td>98.0</td>\n",
              "      <td>96.0</td>\n",
              "      <td>98.0</td>\n",
              "      <td>97.0</td>\n",
              "      <td>96.0</td>\n",
              "      <td>98.0</td>\n",
              "      <td>97.0</td>\n",
              "      <td>98.0</td>\n",
              "      <td>98.0</td>\n",
              "    </tr>\n",
              "    <tr>\n",
              "      <th>mlp2</th>\n",
              "      <td>91.0</td>\n",
              "      <td>90.0</td>\n",
              "      <td>90.0</td>\n",
              "      <td>90.0</td>\n",
              "      <td>98.0</td>\n",
              "      <td>92.0</td>\n",
              "      <td>89.0</td>\n",
              "      <td>90.0</td>\n",
              "      <td>91.0</td>\n",
              "      <td>91.0</td>\n",
              "    </tr>\n",
              "  </tbody>\n",
              "</table>\n",
              "</div>"
            ],
            "text/plain": [
              "          0     1     2     3     4     5     6     7     8     9\n",
              "tree   78.0  80.0  80.0  78.0  78.0  81.0  78.0  82.0  78.0  83.0\n",
              "knn5   85.0  84.0  82.0  86.0  82.0  86.0  83.0  86.0  80.0  89.0\n",
              "knn10  88.0  83.0  89.0  89.0  87.0  88.0  87.0  90.0  89.0  88.0\n",
              "mlp1   98.0  98.0  96.0  98.0  97.0  96.0  98.0  97.0  98.0  98.0\n",
              "mlp2   91.0  90.0  90.0  90.0  98.0  92.0  89.0  90.0  91.0  91.0"
            ]
          },
          "metadata": {
            "tags": []
          },
          "execution_count": 10
        }
      ]
    },
    {
      "cell_type": "code",
      "metadata": {
        "id": "-nZEW9tOoG-a",
        "colab_type": "code",
        "outputId": "76102186-9e4e-4384-d6cf-a874b944b834",
        "colab": {
          "base_uri": "https://localhost:8080/",
          "height": 297
        }
      },
      "source": [
        "successMLP1 = [x for x in range(len(balance_mlp1_acertos))]\n",
        "failureMLP1 = [x for x in range(len(balance_mlp1_erros))]\n",
        "plt.bar(successMLP1, balance_mlp1_acertos, color='green')\n",
        "plt.bar(failureMLP1, balance_mlp1_erros, color='red')\n",
        "plt.xlabel('Teste')\n",
        "plt.ylabel('Percentual')\n",
        "plt.title('Gráfico do MLP na arquitetura 10 - 5')\n",
        "plt.show()"
      ],
      "execution_count": 12,
      "outputs": [
        {
          "output_type": "display_data",
          "data": {
            "image/png": "[encoded data removed]",
            "text/plain": [
              "<Figure size 432x288 with 1 Axes>"
            ]
          },
          "metadata": {
            "tags": []
          }
        }
      ]
    },
    {
      "cell_type": "code",
      "metadata": {
        "id": "y2-nHAsFrWKu",
        "colab_type": "code",
        "outputId": "34989f16-a827-44e7-f8bc-1cb3bf25f861",
        "colab": {
          "base_uri": "https://localhost:8080/",
          "height": 297
        }
      },
      "source": [
        "successMLP2 = [x for x in range(len(balance_mlp2_acertos))]\n",
        "failureMLP2 = [x for x in range(len(balance_mlp2_erros))]\n",
        "plt.bar(successMLP2, balance_mlp2_acertos, color='green')\n",
        "plt.bar(failureMLP2, balance_mlp2_erros, color='red')\n",
        "plt.xlabel('Teste')\n",
        "plt.ylabel('Percentual')\n",
        "plt.title('Gráfico do MLP na arquitetura 4 - 2')\n",
        "plt.show()"
      ],
      "execution_count": 14,
      "outputs": [
        {
          "output_type": "display_data",
          "data": {
            "image/png": "[encoded data removed]",
            "text/plain": [
              "<Figure size 432x288 with 1 Axes>"
            ]
          },
          "metadata": {
            "tags": []
          }
        }
      ]
    },
    {
      "cell_type": "code",
      "metadata": {
        "id": "uBQtJUugxQEs",
        "colab_type": "code",
        "outputId": "6d4e86ac-db7d-420f-87b7-003a19d34dbd",
        "colab": {
          "base_uri": "https://localhost:8080/",
          "height": 312
        }
      },
      "source": [
        "plt.ylabel('Custo')\n",
        "plt.xlabel('Iteração')\n",
        "plt.title(\"Learning rate = \" + str(0.001))\n",
        "plt.plot(balance_scale_mlp1.loss_curve_)"
      ],
      "execution_count": 0,
      "outputs": [
        {
          "output_type": "execute_result",
          "data": {
            "text/plain": [
              "[<matplotlib.lines.Line2D at 0x7fdf5abc1550>]"
            ]
          },
          "metadata": {
            "tags": []
          },
          "execution_count": 160
        },
        {
          "output_type": "display_data",
          "data": {
            "image/png": "[encoded data removed]",
            "text/plain": [
              "<Figure size 432x288 with 1 Axes>"
            ]
          },
          "metadata": {
            "tags": []
          }
        }
      ]
    },
    {
      "cell_type": "code",
      "metadata": {
        "id": "zqaqCzS2rXr9",
        "colab_type": "code",
        "outputId": "3436a3f7-8d7c-4915-c9e1-64de729ed428",
        "colab": {
          "base_uri": "https://localhost:8080/",
          "height": 312
        }
      },
      "source": [
        "plt.ylabel('Custo')\n",
        "plt.xlabel('Iteração')\n",
        "plt.title(\"Learning rate = \" + str(0.001))\n",
        "plt.plot(balance_scale_mlp2.loss_curve_)"
      ],
      "execution_count": 0,
      "outputs": [
        {
          "output_type": "execute_result",
          "data": {
            "text/plain": [
              "[<matplotlib.lines.Line2D at 0x7fdf5aa1a668>]"
            ]
          },
          "metadata": {
            "tags": []
          },
          "execution_count": 161
        },
        {
          "output_type": "display_data",
          "data": {
            "image/png": "[encoded data removed]",
            "text/plain": [
              "<Figure size 432x288 with 1 Axes>"
            ]
          },
          "metadata": {
            "tags": []
          }
        }
      ]
    },
    {
      "cell_type": "code",
      "metadata": {
        "id": "ItL1H5uAraz1",
        "colab_type": "code",
        "outputId": "15130477-bad9-4efe-dd53-4590b84d0d1e",
        "colab": {
          "base_uri": "https://localhost:8080/",
          "height": 206
        }
      },
      "source": [
        "pandas.DataFrame.from_dict(abalone_results, orient='index')"
      ],
      "execution_count": 0,
      "outputs": [
        {
          "output_type": "execute_result",
          "data": {
            "text/html": [
              "<div>\n",
              "<style scoped>\n",
              "    .dataframe tbody tr th:only-of-type {\n",
              "        vertical-align: middle;\n",
              "    }\n",
              "\n",
              "    .dataframe tbody tr th {\n",
              "        vertical-align: top;\n",
              "    }\n",
              "\n",
              "    .dataframe thead th {\n",
              "        text-align: right;\n",
              "    }\n",
              "</style>\n",
              "<table border=\"1\" class=\"dataframe\">\n",
              "  <thead>\n",
              "    <tr style=\"text-align: right;\">\n",
              "      <th></th>\n",
              "      <th>0</th>\n",
              "      <th>1</th>\n",
              "      <th>2</th>\n",
              "      <th>3</th>\n",
              "      <th>4</th>\n",
              "      <th>5</th>\n",
              "      <th>6</th>\n",
              "      <th>7</th>\n",
              "      <th>8</th>\n",
              "      <th>9</th>\n",
              "    </tr>\n",
              "  </thead>\n",
              "  <tbody>\n",
              "    <tr>\n",
              "      <th>tree</th>\n",
              "      <td>49.0</td>\n",
              "      <td>47.0</td>\n",
              "      <td>51.0</td>\n",
              "      <td>51.0</td>\n",
              "      <td>48.0</td>\n",
              "      <td>51.0</td>\n",
              "      <td>49.0</td>\n",
              "      <td>51.0</td>\n",
              "      <td>50.0</td>\n",
              "      <td>49.0</td>\n",
              "    </tr>\n",
              "    <tr>\n",
              "      <th>knn5</th>\n",
              "      <td>53.0</td>\n",
              "      <td>52.0</td>\n",
              "      <td>51.0</td>\n",
              "      <td>55.0</td>\n",
              "      <td>54.0</td>\n",
              "      <td>54.0</td>\n",
              "      <td>54.0</td>\n",
              "      <td>51.0</td>\n",
              "      <td>51.0</td>\n",
              "      <td>56.0</td>\n",
              "    </tr>\n",
              "    <tr>\n",
              "      <th>knn10</th>\n",
              "      <td>53.0</td>\n",
              "      <td>53.0</td>\n",
              "      <td>53.0</td>\n",
              "      <td>56.0</td>\n",
              "      <td>52.0</td>\n",
              "      <td>53.0</td>\n",
              "      <td>53.0</td>\n",
              "      <td>51.0</td>\n",
              "      <td>54.0</td>\n",
              "      <td>53.0</td>\n",
              "    </tr>\n",
              "    <tr>\n",
              "      <th>mlp1</th>\n",
              "      <td>54.0</td>\n",
              "      <td>58.0</td>\n",
              "      <td>54.0</td>\n",
              "      <td>55.0</td>\n",
              "      <td>53.0</td>\n",
              "      <td>56.0</td>\n",
              "      <td>55.0</td>\n",
              "      <td>53.0</td>\n",
              "      <td>56.0</td>\n",
              "      <td>56.0</td>\n",
              "    </tr>\n",
              "    <tr>\n",
              "      <th>mlp2</th>\n",
              "      <td>54.0</td>\n",
              "      <td>56.0</td>\n",
              "      <td>54.0</td>\n",
              "      <td>58.0</td>\n",
              "      <td>54.0</td>\n",
              "      <td>54.0</td>\n",
              "      <td>54.0</td>\n",
              "      <td>54.0</td>\n",
              "      <td>53.0</td>\n",
              "      <td>55.0</td>\n",
              "    </tr>\n",
              "  </tbody>\n",
              "</table>\n",
              "</div>"
            ],
            "text/plain": [
              "          0     1     2     3     4     5     6     7     8     9\n",
              "tree   49.0  47.0  51.0  51.0  48.0  51.0  49.0  51.0  50.0  49.0\n",
              "knn5   53.0  52.0  51.0  55.0  54.0  54.0  54.0  51.0  51.0  56.0\n",
              "knn10  53.0  53.0  53.0  56.0  52.0  53.0  53.0  51.0  54.0  53.0\n",
              "mlp1   54.0  58.0  54.0  55.0  53.0  56.0  55.0  53.0  56.0  56.0\n",
              "mlp2   54.0  56.0  54.0  58.0  54.0  54.0  54.0  54.0  53.0  55.0"
            ]
          },
          "metadata": {
            "tags": []
          },
          "execution_count": 163
        }
      ]
    },
    {
      "cell_type": "code",
      "metadata": {
        "id": "axW4pMIbociG",
        "colab_type": "code",
        "outputId": "4b661635-f6b8-4bea-c458-9a02371b4d6c",
        "colab": {
          "base_uri": "https://localhost:8080/",
          "height": 295
        }
      },
      "source": [
        "successMLP1 = [x for x in range(len(abalone_mlp1_acertos))]\n",
        "failureMLP1 = [x for x in range(len(abalone_mlp1_erros))]\n",
        "#plt.bar(failureMLP1, abalone_mlp1_erros, color='red')\n",
        "plt.bar(successMLP1, abalone_mlp1_acertos, color='green')\n",
        "plt.xlabel('Teste')\n",
        "plt.ylabel('Percentual')\n",
        "plt.title('Gráfico do MLP na arquitetura 8 - 6')\n",
        "plt.show()"
      ],
      "execution_count": 22,
      "outputs": [
        {
          "output_type": "display_data",
          "data": {
            "image/png": "[encoded data removed]",
            "text/plain": [
              "<Figure size 432x288 with 1 Axes>"
            ]
          },
          "metadata": {
            "tags": []
          }
        }
      ]
    },
    {
      "cell_type": "code",
      "metadata": {
        "id": "TnCUvAVSrcWt",
        "colab_type": "code",
        "outputId": "8d22f4aa-6557-4106-c3ef-271ebea94cb1",
        "colab": {
          "base_uri": "https://localhost:8080/",
          "height": 295
        }
      },
      "source": [
        "successMLP2 = [x for x in range(len(abalone_mlp2_acertos))]\n",
        "failureMLP2 = [x for x in range(len(abalone_mlp2_erros))]\n",
        "#plt.bar(failureMLP2, abalone_mlp2_erros, color='red')\n",
        "plt.bar(successMLP2, abalone_mlp2_acertos, color='green')\n",
        "plt.xlabel('Teste')\n",
        "plt.ylabel('Percentual')\n",
        "plt.title('Gráfico do MLP na arquitetura 4 - 2')\n",
        "plt.show()"
      ],
      "execution_count": 21,
      "outputs": [
        {
          "output_type": "display_data",
          "data": {
            "image/png": "[encoded data removed]",
            "text/plain": [
              "<Figure size 432x288 with 1 Axes>"
            ]
          },
          "metadata": {
            "tags": []
          }
        }
      ]
    },
    {
      "cell_type": "code",
      "metadata": {
        "id": "i6BFLmKbxWDP",
        "colab_type": "code",
        "outputId": "9e64db90-0474-4216-e9f6-418274b127c0",
        "colab": {
          "base_uri": "https://localhost:8080/",
          "height": 312
        }
      },
      "source": [
        "plt.ylabel('Custo')\n",
        "plt.xlabel('Iteração')\n",
        "plt.title(\"Learning rate =\" + str(0.001))\n",
        "plt.plot(abalone_mlp1.loss_curve_)"
      ],
      "execution_count": 0,
      "outputs": [
        {
          "output_type": "execute_result",
          "data": {
            "text/plain": [
              "[<matplotlib.lines.Line2D at 0x7fdf5ac92668>]"
            ]
          },
          "metadata": {
            "tags": []
          },
          "execution_count": 179
        },
        {
          "output_type": "display_data",
          "data": {
            "image/png": "[encoded data removed]",
            "text/plain": [
              "<Figure size 432x288 with 1 Axes>"
            ]
          },
          "metadata": {
            "tags": []
          }
        }
      ]
    },
    {
      "cell_type": "code",
      "metadata": {
        "id": "6pxd3CTVrd1Y",
        "colab_type": "code",
        "outputId": "e8fcdabb-1f98-464a-dcf7-f6beb685c6f3",
        "colab": {
          "base_uri": "https://localhost:8080/",
          "height": 312
        }
      },
      "source": [
        "plt.ylabel('Custo')\n",
        "plt.xlabel('Iteração')\n",
        "plt.title(\"Learning rate =\" + str(0.001))\n",
        "plt.plot(abalone_mlp2.loss_curve_)"
      ],
      "execution_count": 0,
      "outputs": [
        {
          "output_type": "execute_result",
          "data": {
            "text/plain": [
              "[<matplotlib.lines.Line2D at 0x7fdf5abc66d8>]"
            ]
          },
          "metadata": {
            "tags": []
          },
          "execution_count": 180
        },
        {
          "output_type": "display_data",
          "data": {
            "image/png": "[encoded data removed]",
            "text/plain": [
              "<Figure size 432x288 with 1 Axes>"
            ]
          },
          "metadata": {
            "tags": []
          }
        }
      ]
    }
  ]
}